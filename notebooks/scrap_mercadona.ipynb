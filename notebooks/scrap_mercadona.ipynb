{
 "cells": [
  {
   "cell_type": "code",
   "execution_count": 1,
   "metadata": {},
   "outputs": [],
   "source": [
    "import pandas as pd\n",
    "import numpy as np\n",
    "from selenium import webdriver\n",
    "from time import sleep\n",
    "from datetime import date\n",
    "from webdriver_manager.chrome import ChromeDriverManager\n",
    "from selenium.webdriver.common.keys import Keys\n",
    "from selenium.webdriver.chrome.options import Options\n",
    "import warnings\n",
    "warnings.filterwarnings('ignore')\n",
    "import sys\n",
    "sys.path.append(\"../\")\n",
    "import src.herramientas_scrapeo as hs\n",
    "import src.biblioteca as bb\n",
    "import src.soporte as sp"
   ]
  },
  {
   "cell_type": "code",
   "execution_count": null,
   "metadata": {},
   "outputs": [],
   "source": [
    "# Configuro las opciones de Selenium\n",
    "opciones= Options()\n",
    "opciones.add_experimental_option('excludeSwitches', ['enable-automation'])#para ocultarme como robot\n",
    "opciones.add_experimental_option('useAutomationExtension', False)\n",
    "opciones.add_argument('--start-maximized') #empezar maximizado\n",
    "opciones.add_argument('user.data-dir=selenium') #guarda las cookies\n",
    "opciones.add_argument('--incognito')#incognito window"
   ]
  },
  {
   "cell_type": "code",
   "execution_count": 2,
   "metadata": {},
   "outputs": [],
   "source": [
    "# Declaro unas variables para usarlo después\n",
    "productos_mercadona = bb.productos_mercadona_estructura.copy() # Estructura en formato diccionario del dataframe que voy a usar\n",
    "recorrer = bb.listacategorias_merc.copy() # Una lista con todas las categorías del mercadona por las que liego quiero scrapear\n",
    "errores = set() # Un set en el que se almacenarán las categorías que no han podido ser scrapeadas al commpleto, al ser un set no se repiten los objetos\n",
    "today = date.today() # Creo una variable con la fecha actual"
   ]
  },
  {
   "attachments": {},
   "cell_type": "markdown",
   "metadata": {},
   "source": [
    "En esta pequeña casilla modifico las variables anteriores, para scrapear de nuevo las categorías que no han podido completarse\n",
    "es decir, es solo para la segunda vez que recorremos"
   ]
  },
  {
   "cell_type": "code",
   "execution_count": 3,
   "metadata": {},
   "outputs": [],
   "source": [
    "\n",
    "dfincompleto = pd.read_csv(\"../data/merc2023-01-20_suma.csv\") # Cargo el csv con los datos incompletos\n",
    "for cat_id in dfincompleto[\"category_id\"].unique(): # Busco las categorías que he scrapeado al completo\n",
    "    if cat_id in recorrer:\n",
    "        recorrer.remove(cat_id) # Y las elimino de las lista a recorrer\n",
    "    else:\n",
    "        pass"
   ]
  },
  {
   "attachments": {},
   "cell_type": "markdown",
   "metadata": {},
   "source": [
    "# Scrapeamos mediante una función"
   ]
  },
  {
   "cell_type": "code",
   "execution_count": null,
   "metadata": {},
   "outputs": [],
   "source": [
    "hs.scrap_mercadona(recorrer, productos_mercadona, errores)"
   ]
  },
  {
   "attachments": {},
   "cell_type": "markdown",
   "metadata": {},
   "source": [
    "# Pasamos a dataframe"
   ]
  },
  {
   "cell_type": "code",
   "execution_count": null,
   "metadata": {},
   "outputs": [],
   "source": [
    "# Con los datos en formato diccionario, lo pasamos a dataframe\n",
    "dfm = pd.DataFrame(productos_mercadona)\n"
   ]
  },
  {
   "cell_type": "code",
   "execution_count": null,
   "metadata": {},
   "outputs": [],
   "source": [
    "# Crreo una copia por si acaso\n",
    "dfm2 = dfm.copy()"
   ]
  },
  {
   "cell_type": "code",
   "execution_count": null,
   "metadata": {},
   "outputs": [],
   "source": [
    "dfm2.head(2)"
   ]
  },
  {
   "cell_type": "code",
   "execution_count": null,
   "metadata": {},
   "outputs": [],
   "source": [
    "# Checkeo el número de items que se han scrapeado de cada categoría\n",
    "dfmcate_id = dfm2[\"category_id\"].value_counts().reset_index()"
   ]
  },
  {
   "cell_type": "code",
   "execution_count": null,
   "metadata": {},
   "outputs": [],
   "source": [
    "# Al ver que unas pocas categorías no tienen suficientes objetos scrapeados, las elimino y las añado de nuevo a la lista de errores\n",
    "dfmcate_id.apply(lambda x: sp.revisar_errores(x[\"index\"], x[\"category_id\"], errores), axis = 1)"
   ]
  },
  {
   "cell_type": "code",
   "execution_count": null,
   "metadata": {},
   "outputs": [],
   "source": [
    "# Eliminos todos los productos de las categorías que no se han scrapeado al completo, para poder scrapear luego todos los productos\n",
    "for error in errores:\n",
    "    dfm2 = dfm2[dfm2[\"category_id\"] != error]"
   ]
  },
  {
   "cell_type": "code",
   "execution_count": null,
   "metadata": {},
   "outputs": [],
   "source": [
    "# Elimino los posibles productos que no me sirven para mi análisis\n",
    "dfm2.dropna(inplace=True)"
   ]
  },
  {
   "attachments": {},
   "cell_type": "markdown",
   "metadata": {},
   "source": [
    "# Almacenamos los datos"
   ]
  },
  {
   "attachments": {},
   "cell_type": "markdown",
   "metadata": {},
   "source": [
    "Si es la segunda vez, para almacenar todo en el mismo csv cargamos el csv anterior y lo cargamos, además de juntarlo con lo que hemos conseguido\n",
    "y ya después lo guardamos"
   ]
  },
  {
   "cell_type": "code",
   "execution_count": null,
   "metadata": {},
   "outputs": [],
   "source": [
    "\n",
    "dfsuma = pd.read_csv(\"../data/merc2023-01-20_suma.csv\")\n",
    "dfsuma2 = pd.concat([dfsuma, dfm2], axis = 0, join = \"outer\", ignore_index = True)\n",
    "dfsuma2.to_csv(f\"../data/merc{today}_suma.csv\")"
   ]
  },
  {
   "attachments": {},
   "cell_type": "markdown",
   "metadata": {},
   "source": [
    "Si es la primera vez lo que hacemos es guardar estos datos como el CSV inicial en el que vamos acumulando datos"
   ]
  },
  {
   "cell_type": "code",
   "execution_count": null,
   "metadata": {},
   "outputs": [],
   "source": [
    "dfm2.to_csv(f\"../data/merc{today}_suma.csv\")"
   ]
  }
 ],
 "metadata": {
  "kernelspec": {
   "display_name": "base",
   "language": "python",
   "name": "python3"
  },
  "language_info": {
   "codemirror_mode": {
    "name": "ipython",
    "version": 3
   },
   "file_extension": ".py",
   "mimetype": "text/x-python",
   "name": "python",
   "nbconvert_exporter": "python",
   "pygments_lexer": "ipython3",
   "version": "3.9.12"
  },
  "orig_nbformat": 4,
  "vscode": {
   "interpreter": {
    "hash": "c0fe1027508b216a896019249be6f800db5587dd8e29811ed6b75b25cd3ed733"
   }
  }
 },
 "nbformat": 4,
 "nbformat_minor": 2
}
