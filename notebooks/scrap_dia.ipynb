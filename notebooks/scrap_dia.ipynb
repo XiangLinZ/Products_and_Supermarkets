{
 "cells": [
  {
   "cell_type": "code",
   "execution_count": 2,
   "metadata": {},
   "outputs": [
    {
     "name": "stderr",
     "output_type": "stream",
     "text": [
      "c:\\Users\\Lin\\anaconda3\\lib\\site-packages\\fuzzywuzzy\\fuzz.py:11: UserWarning: Using slow pure-python SequenceMatcher. Install python-Levenshtein to remove this warning\n",
      "  warnings.warn('Using slow pure-python SequenceMatcher. Install python-Levenshtein to remove this warning')\n"
     ]
    }
   ],
   "source": [
    "import pandas as pd\n",
    "import numpy as np\n",
    "import re\n",
    "from selenium import webdriver\n",
    "from time import sleep\n",
    "from datetime import date\n",
    "from webdriver_manager.chrome import ChromeDriverManager\n",
    "from selenium.webdriver.common.keys import Keys\n",
    "from selenium.webdriver.chrome.options import Options\n",
    "from fuzzywuzzy import process, fuzz\n",
    "import pickle\n",
    "import tqdm\n",
    "import warnings\n",
    "warnings.filterwarnings('ignore')\n",
    "import requests\n",
    "import re\n",
    "from bs4 import BeautifulSoup\n",
    "today = date.today()\n",
    "opciones= Options()\n",
    "opciones.add_experimental_option('excludeSwitches', ['enable-automation'])#para ocultarme como robot\n",
    "opciones.add_experimental_option('useAutomationExtension', False)\n",
    "opciones.add_argument('--start-maximized') #empezar maximizado\n",
    "opciones.add_argument('user.data-dir=selenium') #guarda las cookies\n",
    "opciones.add_argument('--incognito')#incognito window\n",
    "import sys\n",
    "sys.path.append(\"../\")\n",
    "import src.herramientas_scrapeo as hs\n",
    "sys.path.append(\"../\")\n",
    "import src.soporte as sp\n",
    "sys.path.append(\"../\")\n",
    "import src.biblioteca as bb"
   ]
  },
  {
   "cell_type": "code",
   "execution_count": 3,
   "metadata": {},
   "outputs": [],
   "source": [
    "productos_dia = pd.DataFrame(hs.scrap_dia())"
   ]
  },
  {
   "cell_type": "code",
   "execution_count": 4,
   "metadata": {},
   "outputs": [],
   "source": [
    "productos_dia = productos_dia[productos_dia[\"category\"] != \"soy_solidario_soy_solidario_soy_solidario\"]"
   ]
  },
  {
   "cell_type": "code",
   "execution_count": 7,
   "metadata": {},
   "outputs": [
    {
     "data": {
      "text/html": [
       "<div>\n",
       "<style scoped>\n",
       "    .dataframe tbody tr th:only-of-type {\n",
       "        vertical-align: middle;\n",
       "    }\n",
       "\n",
       "    .dataframe tbody tr th {\n",
       "        vertical-align: top;\n",
       "    }\n",
       "\n",
       "    .dataframe thead th {\n",
       "        text-align: right;\n",
       "    }\n",
       "</style>\n",
       "<table border=\"1\" class=\"dataframe\">\n",
       "  <thead>\n",
       "    <tr style=\"text-align: right;\">\n",
       "      <th></th>\n",
       "      <th>name</th>\n",
       "      <th>category</th>\n",
       "      <th>price</th>\n",
       "      <th>reference_price</th>\n",
       "      <th>reference_unit</th>\n",
       "      <th>insert_date</th>\n",
       "    </tr>\n",
       "  </thead>\n",
       "  <tbody>\n",
       "    <tr>\n",
       "      <th>0</th>\n",
       "      <td>RIEGELEIN figura de chocolate con leche Reyes ...</td>\n",
       "      <td>dulces_de_navidad_surtidos_navidenos</td>\n",
       "      <td>1.09</td>\n",
       "      <td>18.17</td>\n",
       "      <td>Kg</td>\n",
       "      <td>2023-01-18</td>\n",
       "    </tr>\n",
       "    <tr>\n",
       "      <th>1</th>\n",
       "      <td>DIA DULCE NOEL roscón de Reyes premium con nat...</td>\n",
       "      <td>dulces_de_navidad_roscones_de_reyes</td>\n",
       "      <td>6.99</td>\n",
       "      <td>12.71</td>\n",
       "      <td>Kg</td>\n",
       "      <td>2023-01-18</td>\n",
       "    </tr>\n",
       "    <tr>\n",
       "      <th>2</th>\n",
       "      <td>DIA DULCE NOEL roscón de Reyes relleno caja 55...</td>\n",
       "      <td>dulces_de_navidad_roscones_de_reyes</td>\n",
       "      <td>4.99</td>\n",
       "      <td>9.07</td>\n",
       "      <td>Kg</td>\n",
       "      <td>2023-01-18</td>\n",
       "    </tr>\n",
       "    <tr>\n",
       "      <th>3</th>\n",
       "      <td>DIA DULCE NOEL roscón de Reyes relleno sabor t...</td>\n",
       "      <td>dulces_de_navidad_roscones_de_reyes</td>\n",
       "      <td>4.99</td>\n",
       "      <td>9.07</td>\n",
       "      <td>Kg</td>\n",
       "      <td>2023-01-18</td>\n",
       "    </tr>\n",
       "    <tr>\n",
       "      <th>4</th>\n",
       "      <td>NESTLE lote chocolate extrafino y peluche caja...</td>\n",
       "      <td>dulces_de_navidad_surtidos_navidenos</td>\n",
       "      <td>7.99</td>\n",
       "      <td>30.73</td>\n",
       "      <td>Kg</td>\n",
       "      <td>2023-01-18</td>\n",
       "    </tr>\n",
       "  </tbody>\n",
       "</table>\n",
       "</div>"
      ],
      "text/plain": [
       "                                                name  \\\n",
       "0  RIEGELEIN figura de chocolate con leche Reyes ...   \n",
       "1  DIA DULCE NOEL roscón de Reyes premium con nat...   \n",
       "2  DIA DULCE NOEL roscón de Reyes relleno caja 55...   \n",
       "3  DIA DULCE NOEL roscón de Reyes relleno sabor t...   \n",
       "4  NESTLE lote chocolate extrafino y peluche caja...   \n",
       "\n",
       "                               category  price  reference_price  \\\n",
       "0  dulces_de_navidad_surtidos_navidenos   1.09            18.17   \n",
       "1   dulces_de_navidad_roscones_de_reyes   6.99            12.71   \n",
       "2   dulces_de_navidad_roscones_de_reyes   4.99             9.07   \n",
       "3   dulces_de_navidad_roscones_de_reyes   4.99             9.07   \n",
       "4  dulces_de_navidad_surtidos_navidenos   7.99            30.73   \n",
       "\n",
       "  reference_unit insert_date  \n",
       "0             Kg  2023-01-18  \n",
       "1             Kg  2023-01-18  \n",
       "2             Kg  2023-01-18  \n",
       "3             Kg  2023-01-18  \n",
       "4             Kg  2023-01-18  "
      ]
     },
     "execution_count": 7,
     "metadata": {},
     "output_type": "execute_result"
    }
   ],
   "source": [
    "productos_dia.dropna(inplace= True)\n",
    "productos_dia.head()"
   ]
  },
  {
   "cell_type": "code",
   "execution_count": 8,
   "metadata": {},
   "outputs": [
    {
     "ename": "IndexError",
     "evalue": "list index out of range",
     "output_type": "error",
     "traceback": [
      "\u001b[1;31m---------------------------------------------------------------------------\u001b[0m",
      "\u001b[1;31mIndexError\u001b[0m                                Traceback (most recent call last)",
      "\u001b[1;32mc:\\Users\\Lin\\Desktop\\Ironhack\\proyectos\\Proyecto_1_ETL\\notebooks\\scrap_dia.ipynb Cell 5\u001b[0m in \u001b[0;36m<cell line: 1>\u001b[1;34m()\u001b[0m\n\u001b[1;32m----> <a href='vscode-notebook-cell:/c%3A/Users/Lin/Desktop/Ironhack/proyectos/Proyecto_1_ETL/notebooks/scrap_dia.ipynb#X13sZmlsZQ%3D%3D?line=0'>1</a>\u001b[0m productos_dia[\u001b[39m\"\u001b[39m\u001b[39msubcategoria\u001b[39m\u001b[39m\"\u001b[39m] \u001b[39m=\u001b[39m productos_dia\u001b[39m.\u001b[39;49mapply(\u001b[39mlambda\u001b[39;49;00m x: sp\u001b[39m.\u001b[39;49mdia_subcat(x[\u001b[39m\"\u001b[39;49m\u001b[39mcategory\u001b[39;49m\u001b[39m\"\u001b[39;49m]), axis \u001b[39m=\u001b[39;49m \u001b[39m1\u001b[39;49m)\n",
      "File \u001b[1;32mc:\\Users\\Lin\\anaconda3\\lib\\site-packages\\pandas\\core\\frame.py:8839\u001b[0m, in \u001b[0;36mDataFrame.apply\u001b[1;34m(self, func, axis, raw, result_type, args, **kwargs)\u001b[0m\n\u001b[0;32m   8828\u001b[0m \u001b[39mfrom\u001b[39;00m \u001b[39mpandas\u001b[39;00m\u001b[39m.\u001b[39;00m\u001b[39mcore\u001b[39;00m\u001b[39m.\u001b[39;00m\u001b[39mapply\u001b[39;00m \u001b[39mimport\u001b[39;00m frame_apply\n\u001b[0;32m   8830\u001b[0m op \u001b[39m=\u001b[39m frame_apply(\n\u001b[0;32m   8831\u001b[0m     \u001b[39mself\u001b[39m,\n\u001b[0;32m   8832\u001b[0m     func\u001b[39m=\u001b[39mfunc,\n\u001b[1;32m   (...)\u001b[0m\n\u001b[0;32m   8837\u001b[0m     kwargs\u001b[39m=\u001b[39mkwargs,\n\u001b[0;32m   8838\u001b[0m )\n\u001b[1;32m-> 8839\u001b[0m \u001b[39mreturn\u001b[39;00m op\u001b[39m.\u001b[39;49mapply()\u001b[39m.\u001b[39m__finalize__(\u001b[39mself\u001b[39m, method\u001b[39m=\u001b[39m\u001b[39m\"\u001b[39m\u001b[39mapply\u001b[39m\u001b[39m\"\u001b[39m)\n",
      "File \u001b[1;32mc:\\Users\\Lin\\anaconda3\\lib\\site-packages\\pandas\\core\\apply.py:727\u001b[0m, in \u001b[0;36mFrameApply.apply\u001b[1;34m(self)\u001b[0m\n\u001b[0;32m    724\u001b[0m \u001b[39melif\u001b[39;00m \u001b[39mself\u001b[39m\u001b[39m.\u001b[39mraw:\n\u001b[0;32m    725\u001b[0m     \u001b[39mreturn\u001b[39;00m \u001b[39mself\u001b[39m\u001b[39m.\u001b[39mapply_raw()\n\u001b[1;32m--> 727\u001b[0m \u001b[39mreturn\u001b[39;00m \u001b[39mself\u001b[39;49m\u001b[39m.\u001b[39;49mapply_standard()\n",
      "File \u001b[1;32mc:\\Users\\Lin\\anaconda3\\lib\\site-packages\\pandas\\core\\apply.py:851\u001b[0m, in \u001b[0;36mFrameApply.apply_standard\u001b[1;34m(self)\u001b[0m\n\u001b[0;32m    850\u001b[0m \u001b[39mdef\u001b[39;00m \u001b[39mapply_standard\u001b[39m(\u001b[39mself\u001b[39m):\n\u001b[1;32m--> 851\u001b[0m     results, res_index \u001b[39m=\u001b[39m \u001b[39mself\u001b[39;49m\u001b[39m.\u001b[39;49mapply_series_generator()\n\u001b[0;32m    853\u001b[0m     \u001b[39m# wrap results\u001b[39;00m\n\u001b[0;32m    854\u001b[0m     \u001b[39mreturn\u001b[39;00m \u001b[39mself\u001b[39m\u001b[39m.\u001b[39mwrap_results(results, res_index)\n",
      "File \u001b[1;32mc:\\Users\\Lin\\anaconda3\\lib\\site-packages\\pandas\\core\\apply.py:867\u001b[0m, in \u001b[0;36mFrameApply.apply_series_generator\u001b[1;34m(self)\u001b[0m\n\u001b[0;32m    864\u001b[0m \u001b[39mwith\u001b[39;00m option_context(\u001b[39m\"\u001b[39m\u001b[39mmode.chained_assignment\u001b[39m\u001b[39m\"\u001b[39m, \u001b[39mNone\u001b[39;00m):\n\u001b[0;32m    865\u001b[0m     \u001b[39mfor\u001b[39;00m i, v \u001b[39min\u001b[39;00m \u001b[39menumerate\u001b[39m(series_gen):\n\u001b[0;32m    866\u001b[0m         \u001b[39m# ignore SettingWithCopy here in case the user mutates\u001b[39;00m\n\u001b[1;32m--> 867\u001b[0m         results[i] \u001b[39m=\u001b[39m \u001b[39mself\u001b[39;49m\u001b[39m.\u001b[39;49mf(v)\n\u001b[0;32m    868\u001b[0m         \u001b[39mif\u001b[39;00m \u001b[39misinstance\u001b[39m(results[i], ABCSeries):\n\u001b[0;32m    869\u001b[0m             \u001b[39m# If we have a view on v, we need to make a copy because\u001b[39;00m\n\u001b[0;32m    870\u001b[0m             \u001b[39m#  series_generator will swap out the underlying data\u001b[39;00m\n\u001b[0;32m    871\u001b[0m             results[i] \u001b[39m=\u001b[39m results[i]\u001b[39m.\u001b[39mcopy(deep\u001b[39m=\u001b[39m\u001b[39mFalse\u001b[39;00m)\n",
      "\u001b[1;32mc:\\Users\\Lin\\Desktop\\Ironhack\\proyectos\\Proyecto_1_ETL\\notebooks\\scrap_dia.ipynb Cell 5\u001b[0m in \u001b[0;36m<lambda>\u001b[1;34m(x)\u001b[0m\n\u001b[1;32m----> <a href='vscode-notebook-cell:/c%3A/Users/Lin/Desktop/Ironhack/proyectos/Proyecto_1_ETL/notebooks/scrap_dia.ipynb#X13sZmlsZQ%3D%3D?line=0'>1</a>\u001b[0m productos_dia[\u001b[39m\"\u001b[39m\u001b[39msubcategoria\u001b[39m\u001b[39m\"\u001b[39m] \u001b[39m=\u001b[39m productos_dia\u001b[39m.\u001b[39mapply(\u001b[39mlambda\u001b[39;00m x: sp\u001b[39m.\u001b[39;49mdia_subcat(x[\u001b[39m\"\u001b[39;49m\u001b[39mcategory\u001b[39;49m\u001b[39m\"\u001b[39;49m]), axis \u001b[39m=\u001b[39m \u001b[39m1\u001b[39m)\n",
      "File \u001b[1;32mc:\\Users\\Lin\\Desktop\\Ironhack\\proyectos\\Proyecto_1_ETL\\notebooks\\..\\src\\soporte.py:48\u001b[0m, in \u001b[0;36mdia_subcat\u001b[1;34m(categoria)\u001b[0m\n\u001b[0;32m     46\u001b[0m                 \u001b[39mreturn\u001b[39;00m k\n\u001b[0;32m     47\u001b[0m \u001b[39melif\u001b[39;00m frag[\u001b[39m0\u001b[39m] \u001b[39m==\u001b[39m \u001b[39m\"\u001b[39m\u001b[39mmascotas\u001b[39m\u001b[39m\"\u001b[39m:\n\u001b[1;32m---> 48\u001b[0m     \u001b[39mif\u001b[39;00m frag[\u001b[39m1\u001b[39;49m] \u001b[39min\u001b[39;00m [\u001b[39m\"\u001b[39m\u001b[39mperros\u001b[39m\u001b[39m\"\u001b[39m, \u001b[39m\"\u001b[39m\u001b[39mgatos\u001b[39m\u001b[39m\"\u001b[39m]:\n\u001b[0;32m     49\u001b[0m         \u001b[39mreturn\u001b[39;00m frag[\u001b[39m1\u001b[39m] \n\u001b[0;32m     50\u001b[0m     \u001b[39melif\u001b[39;00m frag[\u001b[39m1\u001b[39m] \u001b[39min\u001b[39;00m [\u001b[39m\"\u001b[39m\u001b[39mresto\u001b[39m\u001b[39m\"\u001b[39m, \u001b[39m\"\u001b[39m\u001b[39mroedores\u001b[39m\u001b[39m\"\u001b[39m, \u001b[39m\"\u001b[39m\u001b[39motros\u001b[39m\u001b[39m\"\u001b[39m, \u001b[39m\"\u001b[39m\u001b[39motro\u001b[39m\u001b[39m\"\u001b[39m]:\n",
      "\u001b[1;31mIndexError\u001b[0m: list index out of range"
     ]
    }
   ],
   "source": [
    "productos_dia[\"subcategoria\"] = productos_dia.apply(lambda x: sp.dia_subcat(x[\"category\"]), axis = 1)"
   ]
  },
  {
   "cell_type": "code",
   "execution_count": null,
   "metadata": {},
   "outputs": [],
   "source": [
    "productos_dia[\"category\"] = productos_dia.apply(lambda x: sp.category(x[\"subcategoria\"]), axis = 1)"
   ]
  },
  {
   "cell_type": "code",
   "execution_count": 6,
   "metadata": {},
   "outputs": [],
   "source": [
    "productos_dia.to_csv(f\"../data/dia_{today}.csv\")"
   ]
  }
 ],
 "metadata": {
  "kernelspec": {
   "display_name": "base",
   "language": "python",
   "name": "python3"
  },
  "language_info": {
   "codemirror_mode": {
    "name": "ipython",
    "version": 3
   },
   "file_extension": ".py",
   "mimetype": "text/x-python",
   "name": "python",
   "nbconvert_exporter": "python",
   "pygments_lexer": "ipython3",
   "version": "3.9.12"
  },
  "orig_nbformat": 4,
  "vscode": {
   "interpreter": {
    "hash": "c0fe1027508b216a896019249be6f800db5587dd8e29811ed6b75b25cd3ed733"
   }
  }
 },
 "nbformat": 4,
 "nbformat_minor": 2
}
