{
 "cells": [
  {
   "cell_type": "code",
   "execution_count": 2,
   "metadata": {},
   "outputs": [
    {
     "name": "stderr",
     "output_type": "stream",
     "text": [
      "c:\\Users\\Lin\\anaconda3\\lib\\site-packages\\fuzzywuzzy\\fuzz.py:11: UserWarning: Using slow pure-python SequenceMatcher. Install python-Levenshtein to remove this warning\n",
      "  warnings.warn('Using slow pure-python SequenceMatcher. Install python-Levenshtein to remove this warning')\n"
     ]
    }
   ],
   "source": [
    "import pandas as pd\n",
    "import numpy as np\n",
    "import re\n",
    "from selenium import webdriver\n",
    "from time import sleep\n",
    "from datetime import date\n",
    "from webdriver_manager.chrome import ChromeDriverManager\n",
    "from selenium.webdriver.common.keys import Keys\n",
    "from selenium.webdriver.chrome.options import Options\n",
    "from fuzzywuzzy import process, fuzz\n",
    "import pickle\n",
    "import tqdm\n",
    "import warnings\n",
    "warnings.filterwarnings('ignore')\n",
    "import requests\n",
    "import re\n",
    "from bs4 import BeautifulSoup\n",
    "opciones= Options()\n",
    "opciones.add_experimental_option('excludeSwitches', ['enable-automation'])#para ocultarme como robot\n",
    "opciones.add_experimental_option('useAutomationExtension', False)\n",
    "opciones.add_argument('--start-maximized') #empezar maximizado\n",
    "opciones.add_argument('user.data-dir=selenium') #guarda las cookies\n",
    "opciones.add_argument('--incognito')#incognito window"
   ]
  },
  {
   "cell_type": "code",
   "execution_count": null,
   "metadata": {},
   "outputs": [],
   "source": [
    "for i in range(15):\n",
    "    driver.find(\"css selector\", f\"#root > div.grid-layout > div.grid-layout__main-container > div.grid-layout__content > div > div > section:nth-child(2) > div > div:nth-child({i}) > button\").click()\n",
    "    \n",
    "    \n",
    "    css_precio = \"#root > div.ui-focus-trap > div > div:nth-child(2) > div > div.private-product-detail > div.private-product-detail__content > div.private-product-detail__right > div.product-price > p.product-price__unit-price.large-b\"\n",
    "    precio = driver.find_element(\"css selector\", css_precio).text\n",
    "    mi_diccionario[\"precio\"].append(precio)\n",
    "\n",
    "#root > div.grid-layout > div.grid-layout__main-container > div.grid-layout__content > div > div > section:nth-child(2) > div > div:nth-child(2) > button"
   ]
  },
  {
   "cell_type": "code",
   "execution_count": 9,
   "metadata": {},
   "outputs": [],
   "source": [
    "driver = webdriver.Chrome(ChromeDriverManager().install())\n",
    "opciones= Options()\n",
    "opciones.add_experimental_option('excludeSwitches', ['enable-automation'])#para ocultarme como robot\n",
    "opciones.add_experimental_option('useAutomationExtension', False)\n",
    "opciones.add_argument('--start-maximized') #empezar maximizado\n",
    "opciones.add_argument('user.data-dir=selenium') #guarda las cookies\n",
    "opciones.add_argument('--incognito')#incognito window\n",
    "productos_mercadona = {\n",
    "    \"name\": [],\n",
    "    \"category\": [],\n",
    "    \"price\": [],\n",
    "    \"reference_price\": [],\n",
    "    \"reference_unit\": [],\n",
    "    \"insert_date\": []}\n",
    "categoria_n_mercadona = [\"112\", \"156\", \"135\", \"118\", \"89\", \"216\", \"164\", \"86\", \"46\", \"78\", \"48\", \"147\", \"122\", \"201\", \"192\", \"213\", \"27\", \"77\", \"226\", \"206\", \"32\", \"222\", \"65\", \"138\", \"105\", \"99\"]\n",
    "for i in categoria_n_mercadona:\n",
    "    url = f\"https://tienda.mercadona.es/categories/{i}\"\n",
    "    try:\n",
    "        driver.get(url)\n",
    "        sleep(1)\n",
    "        driver.find_element(\"css selector\", '#root > div.cookie-banner > div > div > button.ui-button.ui-button--small.ui-button--primary.ui-button--positive').click()\n",
    "        sleep(2)\n",
    "        driver.find_element(\"css selector\", \"#root > div.ui-focus-trap > div > div:nth-child(2) > div > form > div > input\").click()\n",
    "        driver.find_element(\"css selector\", \"#root > div.ui-focus-trap > div > div:nth-child(2) > div > form > div > input\").send_keys(\"28018\",Keys.ENTER)\n",
    "        sleep(2)\n",
    "        for n in range(1, 200):\n",
    "            rutaselector = f\"#root > div.grid-layout > div.grid-layout__main-container > div.grid-layout__content > div > div > section:nth-child(2) > div > div:nth-child({n}) > button\"\n",
    "            try:\n",
    "                driver.find_element(\"css selector\", rutaselector).click()\n",
    "                sleep(5)\n",
    "                productos_mercadona[\"name\"].append(driver.find_element(\"css selector\", \"#root > div.ui-focus-trap > div > div:nth-child(2) > div > div.private-product-detail > div.private-product-detail__content > div.private-product-detail__right > h1\").text)\n",
    "                productos_mercadona[\"category\"].append(driver.find_element(\"css selector\", \"#root > div.ui-focus-trap > div > div:nth-child(2) > div > div.private-product-detail > div.private-product-detail__breadcrumb\").text)\n",
    "                productos_mercadona[\"price\"].append(driver.find_element(\"css selector\", \"#root > div.ui-focus-trap > div > div:nth-child(2) > div > div.private-product-detail > div.private-product-detail__content > div.private-product-detail__right > div.product-price\").text.split(\" €/\")[0])\n",
    "                productos_mercadona[\"reference_price\"].append(driver.find_element(\"css selector\", \"#root > div.ui-focus-trap > div > div:nth-child(2) > div > div.private-product-detail > div.private-product-detail__content > div.private-product-detail__right > div.product-format.product-format__size\").text.split(\" | \")[1].split(\" €/\")[0])\n",
    "                productos_mercadona[\"reference_unit\"].append(driver.find_element(\"css selector\", \"#root > div.ui-focus-trap > div > div:nth-child(2) > div > div.private-product-detail > div.private-product-detail__content > div.private-product-detail__right > div.product-format.product-format__size\").text).split(\" | \")[1].split(\" €/\")[1]\n",
    "                productos_mercadona[\"insert_date\"].append(date.today())\n",
    "                sleep(2)\n",
    "                driver.implicitly_wait(5)\n",
    "                driver.find_element(\"css selector\", '#root > div.ui-focus-trap > div > div:nth-child(2) > div > div.modal-content__header > button').click()\n",
    "                sleep(2)\n",
    "            except:\n",
    "\n",
    "                    driver.find_element(\"css selector\", \"#root > div.grid-layout > div.grid-layout__main-container > div.grid-layout__content > div > div > button\").click()\n",
    "\n",
    "    except:\n",
    "        break"
   ]
  },
  {
   "cell_type": "code",
   "execution_count": 18,
   "metadata": {},
   "outputs": [
    {
     "name": "stdout",
     "output_type": "stream",
     "text": [
      "#root > div.grid-layout > div.grid-layout__main-container > div.grid-layout__content > div > div > section:nth-child(2) > div > div:nth-child(0) > button\n",
      "#root > div.grid-layout > div.grid-layout__main-container > div.grid-layout__content > div > div > section:nth-child(2) > div > div:nth-child(1) > button\n",
      "#root > div.grid-layout > div.grid-layout__main-container > div.grid-layout__content > div > div > section:nth-child(2) > div > div:nth-child(2) > button\n",
      "#root > div.grid-layout > div.grid-layout__main-container > div.grid-layout__content > div > div > section:nth-child(2) > div > div:nth-child(3) > button\n"
     ]
    }
   ],
   "source": [
    "#root > div.ui-focus-trap > div > div:nth-child(2) > div > div.modal-content__header > button\n",
    "#root > div.ui-focus-trap > div > div:nth-child(2) > div > div.modal-content__header > button"
   ]
  },
  {
   "cell_type": "code",
   "execution_count": 3,
   "metadata": {},
   "outputs": [],
   "source": [
    "productos_dia = {\n",
    "    \"name\": [],\n",
    "    \"category\": [],\n",
    "    \"price\": [],\n",
    "    \"reference_price\": [],\n",
    "    \"reference_unit\": [],\n",
    "    \"insert_date\": []}\n",
    "today = date.today()\n",
    "categoria_n_dia = [\"dulces-de-navidad\", \"platos-preparados\", \"frescos\", \"despensa\", \"bebidas\", \"bodega\", \"congelados\", \"cuidado-personal\", \"bebe\", \"cuidado-del-hogar\", \"mascotas\"]\n",
    "for cate in categoria_n_dia:\n",
    "    for n in range(150):\n",
    "        if n == 0:\n",
    "            url = f\"https://www.dia.es/compra-online/{cate}/cf\"\n",
    "        else: \n",
    "            url = f\"https://www.dia.es/compra-online/{cate}/cf?page={n}\"\n",
    "        try:\n",
    "            res = requests.get(url)\n",
    "            sopa = BeautifulSoup(res.content, 'html.parser') \n",
    "            productos_dia_sopa = sopa.find_all(\"div\", {\"class\": \"product-list__item\"})\n",
    "            for producto in productos_dia_sopa:\n",
    "                try:\n",
    "                    productos_dia[\"name\"].append(producto.find(\"a\").get(\"title\"))\n",
    "                except:\n",
    "                    productos_dia[\"name\"].append(np.nan)\n",
    "                try:\n",
    "                    productos_dia[\"category\"].append(producto.find(\"a\").get(\"href\").split(\"/compra-online/\")[1].split(\"/p\")[0].replace(\"/\", \"-\").replace(\"-\",\"_\"))\n",
    "                except:\n",
    "                    productos_dia[\"category\"].append(np.nan)\n",
    "                try:\n",
    "                    productos_dia[\"price\"].append(float(producto.find_all(\"p\")[0].text.split()[0].replace(\",\",\".\")))\n",
    "                except:\n",
    "                    productos_dia[\"price\"].append(np.nan)\n",
    "                try:   \n",
    "                    productos_dia[\"reference_price\"].append(float(producto.find_all(\"p\")[1].text.split()[0].replace(\",\",\".\")))\n",
    "                except:\n",
    "                    productos_dia[\"reference_price\"].append(np.nan)\n",
    "                try:\n",
    "                    productos_dia[\"reference_unit\"].append(producto.find_all(\"p\")[1].text.split()[1].split(\"/\")[1].rstrip(\".\"))\n",
    "                except:\n",
    "                    productos_dia[\"reference_unit\"].append(np.nan)\n",
    "                productos_dia[\"insert_date\"].append(today)\n",
    "        except:\n",
    "            pass\n",
    "            "
   ]
  },
  {
   "cell_type": "code",
   "execution_count": 5,
   "metadata": {},
   "outputs": [],
   "source": [
    "dia_cosas = pd.DataFrame(productos_dia)"
   ]
  },
  {
   "cell_type": "code",
   "execution_count": 8,
   "metadata": {},
   "outputs": [
    {
     "data": {
      "text/html": [
       "<div>\n",
       "<style scoped>\n",
       "    .dataframe tbody tr th:only-of-type {\n",
       "        vertical-align: middle;\n",
       "    }\n",
       "\n",
       "    .dataframe tbody tr th {\n",
       "        vertical-align: top;\n",
       "    }\n",
       "\n",
       "    .dataframe thead th {\n",
       "        text-align: right;\n",
       "    }\n",
       "</style>\n",
       "<table border=\"1\" class=\"dataframe\">\n",
       "  <thead>\n",
       "    <tr style=\"text-align: right;\">\n",
       "      <th></th>\n",
       "      <th>name</th>\n",
       "      <th>category</th>\n",
       "      <th>price</th>\n",
       "      <th>reference_price</th>\n",
       "      <th>reference_unit</th>\n",
       "      <th>insert_date</th>\n",
       "    </tr>\n",
       "  </thead>\n",
       "  <tbody>\n",
       "    <tr>\n",
       "      <th>0</th>\n",
       "      <td>RIEGELEIN figura de chocolate con leche Reyes ...</td>\n",
       "      <td>dulces_de_navidad_surtidos_navidenos</td>\n",
       "      <td>1.09</td>\n",
       "      <td>18.17</td>\n",
       "      <td>Kg</td>\n",
       "      <td>2023-01-16</td>\n",
       "    </tr>\n",
       "    <tr>\n",
       "      <th>1</th>\n",
       "      <td>DIA DULCE NOEL roscón de Reyes premium con nat...</td>\n",
       "      <td>dulces_de_navidad_roscones_de_reyes</td>\n",
       "      <td>6.99</td>\n",
       "      <td>12.71</td>\n",
       "      <td>Kg</td>\n",
       "      <td>2023-01-16</td>\n",
       "    </tr>\n",
       "    <tr>\n",
       "      <th>2</th>\n",
       "      <td>DIA DULCE NOEL mini roscón de Reyes premium co...</td>\n",
       "      <td>dulces_de_navidad_roscones_de_reyes</td>\n",
       "      <td>3.99</td>\n",
       "      <td>19.95</td>\n",
       "      <td>Kg</td>\n",
       "      <td>2023-01-16</td>\n",
       "    </tr>\n",
       "    <tr>\n",
       "      <th>3</th>\n",
       "      <td>DIA DULCE NOEL roscón de Reyes relleno caja 55...</td>\n",
       "      <td>dulces_de_navidad_roscones_de_reyes</td>\n",
       "      <td>4.99</td>\n",
       "      <td>9.07</td>\n",
       "      <td>Kg</td>\n",
       "      <td>2023-01-16</td>\n",
       "    </tr>\n",
       "    <tr>\n",
       "      <th>4</th>\n",
       "      <td>DIA DULCE NOEL roscón de Reyes sin relleno caj...</td>\n",
       "      <td>dulces_de_navidad_roscones_de_reyes</td>\n",
       "      <td>4.49</td>\n",
       "      <td>11.23</td>\n",
       "      <td>Kg</td>\n",
       "      <td>2023-01-16</td>\n",
       "    </tr>\n",
       "    <tr>\n",
       "      <th>...</th>\n",
       "      <td>...</td>\n",
       "      <td>...</td>\n",
       "      <td>...</td>\n",
       "      <td>...</td>\n",
       "      <td>...</td>\n",
       "      <td>...</td>\n",
       "    </tr>\n",
       "    <tr>\n",
       "      <th>39499</th>\n",
       "      <td>ZOCO pacharán botella 70 cl</td>\n",
       "      <td>bodega_licores</td>\n",
       "      <td>8.80</td>\n",
       "      <td>12.57</td>\n",
       "      <td>l</td>\n",
       "      <td>2023-01-16</td>\n",
       "    </tr>\n",
       "    <tr>\n",
       "      <th>39500</th>\n",
       "      <td>AS bocaditos en salsa para perros mini multipa...</td>\n",
       "      <td>mascotas</td>\n",
       "      <td>1.95</td>\n",
       "      <td>4.88</td>\n",
       "      <td>Kg</td>\n",
       "      <td>2023-01-16</td>\n",
       "    </tr>\n",
       "    <tr>\n",
       "      <th>39501</th>\n",
       "      <td>Patatas especial para freir malla 2 Kg</td>\n",
       "      <td>frescos_verduras_y_hortalizas</td>\n",
       "      <td>2.88</td>\n",
       "      <td>1.44</td>\n",
       "      <td>Kg</td>\n",
       "      <td>2023-01-16</td>\n",
       "    </tr>\n",
       "    <tr>\n",
       "      <th>39502</th>\n",
       "      <td>VICTORIA cerveza rubia especial pack 6 botella...</td>\n",
       "      <td>bebidas_cervezas_especiales</td>\n",
       "      <td>2.99</td>\n",
       "      <td>1.99</td>\n",
       "      <td>l</td>\n",
       "      <td>2023-01-16</td>\n",
       "    </tr>\n",
       "    <tr>\n",
       "      <th>39503</th>\n",
       "      <td>DIA TEMPTATION helado bloque sabor turrón caja...</td>\n",
       "      <td>congelados_helados</td>\n",
       "      <td>2.39</td>\n",
       "      <td>4.55</td>\n",
       "      <td>Kg</td>\n",
       "      <td>2023-01-16</td>\n",
       "    </tr>\n",
       "  </tbody>\n",
       "</table>\n",
       "<p>39504 rows × 6 columns</p>\n",
       "</div>"
      ],
      "text/plain": [
       "                                                    name  \\\n",
       "0      RIEGELEIN figura de chocolate con leche Reyes ...   \n",
       "1      DIA DULCE NOEL roscón de Reyes premium con nat...   \n",
       "2      DIA DULCE NOEL mini roscón de Reyes premium co...   \n",
       "3      DIA DULCE NOEL roscón de Reyes relleno caja 55...   \n",
       "4      DIA DULCE NOEL roscón de Reyes sin relleno caj...   \n",
       "...                                                  ...   \n",
       "39499                        ZOCO pacharán botella 70 cl   \n",
       "39500  AS bocaditos en salsa para perros mini multipa...   \n",
       "39501             Patatas especial para freir malla 2 Kg   \n",
       "39502  VICTORIA cerveza rubia especial pack 6 botella...   \n",
       "39503  DIA TEMPTATION helado bloque sabor turrón caja...   \n",
       "\n",
       "                                   category  price  reference_price  \\\n",
       "0      dulces_de_navidad_surtidos_navidenos   1.09            18.17   \n",
       "1       dulces_de_navidad_roscones_de_reyes   6.99            12.71   \n",
       "2       dulces_de_navidad_roscones_de_reyes   3.99            19.95   \n",
       "3       dulces_de_navidad_roscones_de_reyes   4.99             9.07   \n",
       "4       dulces_de_navidad_roscones_de_reyes   4.49            11.23   \n",
       "...                                     ...    ...              ...   \n",
       "39499                        bodega_licores   8.80            12.57   \n",
       "39500                              mascotas   1.95             4.88   \n",
       "39501         frescos_verduras_y_hortalizas   2.88             1.44   \n",
       "39502           bebidas_cervezas_especiales   2.99             1.99   \n",
       "39503                    congelados_helados   2.39             4.55   \n",
       "\n",
       "      reference_unit insert_date  \n",
       "0                 Kg  2023-01-16  \n",
       "1                 Kg  2023-01-16  \n",
       "2                 Kg  2023-01-16  \n",
       "3                 Kg  2023-01-16  \n",
       "4                 Kg  2023-01-16  \n",
       "...              ...         ...  \n",
       "39499              l  2023-01-16  \n",
       "39500             Kg  2023-01-16  \n",
       "39501             Kg  2023-01-16  \n",
       "39502              l  2023-01-16  \n",
       "39503             Kg  2023-01-16  \n",
       "\n",
       "[39504 rows x 6 columns]"
      ]
     },
     "execution_count": 8,
     "metadata": {},
     "output_type": "execute_result"
    }
   ],
   "source": [
    "dia_cosas"
   ]
  },
  {
   "cell_type": "code",
   "execution_count": 22,
   "metadata": {},
   "outputs": [],
   "source": [
    "with open(f\"../data/dia_{today}.pkl\", \"wb\") as alias:\n",
    "    pickle.dump(dia_cosas, alias)"
   ]
  },
  {
   "cell_type": "code",
   "execution_count": 141,
   "metadata": {},
   "outputs": [],
   "source": [
    "\n",
    "url = \"https://www.dia.es/compra-online/dulces-de-navidad/cf\"\n",
    "patron = \"\\d+,\\d+\"\n",
    "res = requests.get(url)\n",
    "sopa = BeautifulSoup(res.content, 'html.parser') \n",
    "productos_dia_sopa = sopa.find_all(\"div\", {\"class\": \"product-list__item\"})\n"
   ]
  },
  {
   "cell_type": "code",
   "execution_count": 144,
   "metadata": {},
   "outputs": [
    {
     "data": {
      "text/plain": [
       "'dulces_de_navidad_surtidos_navidenos'"
      ]
     },
     "execution_count": 144,
     "metadata": {},
     "output_type": "execute_result"
    }
   ],
   "source": [
    "productos_dia_sopa[0].find(\"a\").get(\"href\").split(\"/compra-online/\")[1].split(\"/p\")[0].replace(\"/\", \"-\").replace(\"-\",\"_\")"
   ]
  },
  {
   "cell_type": "code",
   "execution_count": 159,
   "metadata": {},
   "outputs": [
    {
     "data": {
      "text/plain": [
       "'1,09'"
      ]
     },
     "execution_count": 159,
     "metadata": {},
     "output_type": "execute_result"
    }
   ],
   "source": [
    "productos_dia_sopa[0].find_all(\"p\")[0].text.split()[0]"
   ]
  }
 ],
 "metadata": {
  "kernelspec": {
   "display_name": "base",
   "language": "python",
   "name": "python3"
  },
  "language_info": {
   "codemirror_mode": {
    "name": "ipython",
    "version": 3
   },
   "file_extension": ".py",
   "mimetype": "text/x-python",
   "name": "python",
   "nbconvert_exporter": "python",
   "pygments_lexer": "ipython3",
   "version": "3.9.12"
  },
  "orig_nbformat": 4,
  "vscode": {
   "interpreter": {
    "hash": "c0fe1027508b216a896019249be6f800db5587dd8e29811ed6b75b25cd3ed733"
   }
  }
 },
 "nbformat": 4,
 "nbformat_minor": 2
}
