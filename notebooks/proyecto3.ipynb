{
 "cells": [
  {
   "cell_type": "code",
   "execution_count": 3,
   "metadata": {},
   "outputs": [],
   "source": [
    "import pandas as pd\n",
    "import numpy as np\n",
    "import re\n",
    "from selenium import webdriver\n",
    "from time import sleep\n",
    "from datetime import date\n",
    "from webdriver_manager.chrome import ChromeDriverManager\n",
    "from selenium.webdriver.common.keys import Keys\n",
    "from selenium.webdriver.chrome.options import Options\n",
    "from fuzzywuzzy import process, fuzz\n",
    "import pickle\n",
    "import tqdm\n",
    "import warnings\n",
    "warnings.filterwarnings('ignore')\n",
    "import requests\n",
    "import re\n",
    "from bs4 import BeautifulSoup\n",
    "opciones= Options()\n",
    "opciones.add_experimental_option('excludeSwitches', ['enable-automation'])#para ocultarme como robot\n",
    "opciones.add_experimental_option('useAutomationExtension', False)\n",
    "opciones.add_argument('--start-maximized') #empezar maximizado\n",
    "opciones.add_argument('user.data-dir=selenium') #guarda las cookies\n",
    "opciones.add_argument('--incognito')#incognito window\n",
    "import sys\n",
    "sys.path.append(\"../\")\n",
    "import src.herramientas_scrapeo as hs\n",
    "sys.path.append(\"../\")\n",
    "import src.biblioteca as bb"
   ]
  },
  {
   "cell_type": "code",
   "execution_count": 1,
   "metadata": {},
   "outputs": [],
   "source": [
    "#modal-info > div > div > div > button \n",
    "#anti bots, ruta css selector"
   ]
  },
  {
   "cell_type": "code",
   "execution_count": 4,
   "metadata": {},
   "outputs": [],
   "source": [
    "productos_mercadona = {\"name\": [], \"category\": [], \"price\": [], \"reference_price\": [], \"reference_unit\": [], \"insert_date\": []}\n",
    "lista_categorias_copia = bb.listacategorias_merc"
   ]
  },
  {
   "cell_type": "code",
   "execution_count": 5,
   "metadata": {},
   "outputs": [
    {
     "ename": "AttributeError",
     "evalue": "'WebDriver' object has no attribute 'find_elemeny'",
     "output_type": "error",
     "traceback": [
      "\u001b[1;31m---------------------------------------------------------------------------\u001b[0m",
      "\u001b[1;31mNoSuchWindowException\u001b[0m                     Traceback (most recent call last)",
      "File \u001b[1;32mc:\\Users\\Lin\\Desktop\\Ironhack\\proyectos\\Proyecto_1_ETL\\notebooks\\..\\src\\herramientas_scrapeo.py:43\u001b[0m, in \u001b[0;36mmerc_subcat\u001b[1;34m(numero_cate, diccionario)\u001b[0m\n\u001b[0;32m     42\u001b[0m sleep(\u001b[39m2\u001b[39m)\n\u001b[1;32m---> 43\u001b[0m driver\u001b[39m.\u001b[39;49mfind_element(\u001b[39m\"\u001b[39;49m\u001b[39mcss selector\u001b[39;49m\u001b[39m\"\u001b[39;49m, \u001b[39m\"\u001b[39;49m\u001b[39m#root > div.ui-focus-trap > div > div:nth-child(2) > div > form > div > input\u001b[39;49m\u001b[39m\"\u001b[39;49m)\u001b[39m.\u001b[39mclick()\n\u001b[0;32m     44\u001b[0m driver\u001b[39m.\u001b[39mfind_element(\u001b[39m\"\u001b[39m\u001b[39mcss selector\u001b[39m\u001b[39m\"\u001b[39m, \u001b[39m\"\u001b[39m\u001b[39m#root > div.ui-focus-trap > div > div:nth-child(2) > div > form > div > input\u001b[39m\u001b[39m\"\u001b[39m)\u001b[39m.\u001b[39msend_keys(\u001b[39m\"\u001b[39m\u001b[39m28018\u001b[39m\u001b[39m\"\u001b[39m,Keys\u001b[39m.\u001b[39mENTER)\n",
      "File \u001b[1;32mc:\\Users\\Lin\\anaconda3\\lib\\site-packages\\selenium\\webdriver\\remote\\webdriver.py:861\u001b[0m, in \u001b[0;36mWebDriver.find_element\u001b[1;34m(self, by, value)\u001b[0m\n\u001b[0;32m    859\u001b[0m     value \u001b[39m=\u001b[39m \u001b[39m'\u001b[39m\u001b[39m[name=\u001b[39m\u001b[39m\"\u001b[39m\u001b[39m%s\u001b[39;00m\u001b[39m\"\u001b[39m\u001b[39m]\u001b[39m\u001b[39m'\u001b[39m \u001b[39m%\u001b[39m value\n\u001b[1;32m--> 861\u001b[0m \u001b[39mreturn\u001b[39;00m \u001b[39mself\u001b[39;49m\u001b[39m.\u001b[39;49mexecute(Command\u001b[39m.\u001b[39;49mFIND_ELEMENT, {\u001b[39m\"\u001b[39;49m\u001b[39musing\u001b[39;49m\u001b[39m\"\u001b[39;49m: by, \u001b[39m\"\u001b[39;49m\u001b[39mvalue\u001b[39;49m\u001b[39m\"\u001b[39;49m: value})[\u001b[39m\"\u001b[39m\u001b[39mvalue\u001b[39m\u001b[39m\"\u001b[39m]\n",
      "File \u001b[1;32mc:\\Users\\Lin\\anaconda3\\lib\\site-packages\\selenium\\webdriver\\remote\\webdriver.py:444\u001b[0m, in \u001b[0;36mWebDriver.execute\u001b[1;34m(self, driver_command, params)\u001b[0m\n\u001b[0;32m    443\u001b[0m \u001b[39mif\u001b[39;00m response:\n\u001b[1;32m--> 444\u001b[0m     \u001b[39mself\u001b[39;49m\u001b[39m.\u001b[39;49merror_handler\u001b[39m.\u001b[39;49mcheck_response(response)\n\u001b[0;32m    445\u001b[0m     response[\u001b[39m\"\u001b[39m\u001b[39mvalue\u001b[39m\u001b[39m\"\u001b[39m] \u001b[39m=\u001b[39m \u001b[39mself\u001b[39m\u001b[39m.\u001b[39m_unwrap_value(response\u001b[39m.\u001b[39mget(\u001b[39m\"\u001b[39m\u001b[39mvalue\u001b[39m\u001b[39m\"\u001b[39m, \u001b[39mNone\u001b[39;00m))\n",
      "File \u001b[1;32mc:\\Users\\Lin\\anaconda3\\lib\\site-packages\\selenium\\webdriver\\remote\\errorhandler.py:249\u001b[0m, in \u001b[0;36mErrorHandler.check_response\u001b[1;34m(self, response)\u001b[0m\n\u001b[0;32m    248\u001b[0m     \u001b[39mraise\u001b[39;00m exception_class(message, screen, stacktrace, alert_text)  \u001b[39m# type: ignore[call-arg]  # mypy is not smart enough here\u001b[39;00m\n\u001b[1;32m--> 249\u001b[0m \u001b[39mraise\u001b[39;00m exception_class(message, screen, stacktrace)\n",
      "\u001b[1;31mNoSuchWindowException\u001b[0m: Message: no such window: target window already closed\nfrom unknown error: web view not found\n  (Session info: chrome=109.0.5414.74)\nStacktrace:\nBacktrace:\n\t(No symbol) [0x00BDF243]\n\t(No symbol) [0x00B67FD1]\n\t(No symbol) [0x00A5D04D]\n\t(No symbol) [0x00A42D7A]\n\t(No symbol) [0x00AABE7B]\n\t(No symbol) [0x00ABC196]\n\t(No symbol) [0x00AA8386]\n\t(No symbol) [0x00A8163C]\n\t(No symbol) [0x00A8269D]\n\tGetHandleVerifier [0x00E79A22+2655074]\n\tGetHandleVerifier [0x00E6CA24+2601828]\n\tGetHandleVerifier [0x00C88C0A+619850]\n\tGetHandleVerifier [0x00C87830+614768]\n\t(No symbol) [0x00B705FC]\n\t(No symbol) [0x00B75968]\n\t(No symbol) [0x00B75A55]\n\t(No symbol) [0x00B8051B]\n\tBaseThreadInitThunk [0x75F97D69+25]\n\tRtlInitializeExceptionChain [0x7752BB9B+107]\n\tRtlClearBits [0x7752BB1F+191]\n",
      "\nDuring handling of the above exception, another exception occurred:\n",
      "\u001b[1;31mAttributeError\u001b[0m                            Traceback (most recent call last)",
      "\u001b[1;32mc:\\Users\\Lin\\Desktop\\Ironhack\\proyectos\\Proyecto_1_ETL\\notebooks\\proyecto3.ipynb Cell 4\u001b[0m in \u001b[0;36m<cell line: 1>\u001b[1;34m()\u001b[0m\n\u001b[1;32m----> <a href='vscode-notebook-cell:/c%3A/Users/Lin/Desktop/Ironhack/proyectos/Proyecto_1_ETL/notebooks/proyecto3.ipynb#X11sZmlsZQ%3D%3D?line=0'>1</a>\u001b[0m lista_actual\u001b[39m=\u001b[39m hs\u001b[39m.\u001b[39;49mscrap_mercadona(lista_categorias_copia, productos_mercadona)\n",
      "File \u001b[1;32mc:\\Users\\Lin\\Desktop\\Ironhack\\proyectos\\Proyecto_1_ETL\\notebooks\\..\\src\\herramientas_scrapeo.py:100\u001b[0m, in \u001b[0;36mscrap_mercadona\u001b[1;34m(lista, dic)\u001b[0m\n\u001b[0;32m     94\u001b[0m \u001b[39m\"\"\"Scrapea todos los productos de mercadona de hoy\u001b[39;00m\n\u001b[0;32m     95\u001b[0m \n\u001b[0;32m     96\u001b[0m \u001b[39mReturns:\u001b[39;00m\n\u001b[0;32m     97\u001b[0m \u001b[39m    dic: diccionario con estructura ideal para pasar a df\u001b[39;00m\n\u001b[0;32m     98\u001b[0m \u001b[39m\"\"\"\u001b[39;00m\n\u001b[0;32m     99\u001b[0m \u001b[39mfor\u001b[39;00m categ \u001b[39min\u001b[39;00m bb\u001b[39m.\u001b[39mlistacategorias_merc:\n\u001b[1;32m--> 100\u001b[0m     hs\u001b[39m.\u001b[39mmerc_subcat(categ, dic)\n\u001b[0;32m    101\u001b[0m     lista\u001b[39m.\u001b[39mremove(categ)\n\u001b[0;32m    102\u001b[0m     \u001b[39mreturn\u001b[39;00m lista\n",
      "File \u001b[1;32mc:\\Users\\Lin\\Desktop\\Ironhack\\proyectos\\Proyecto_1_ETL\\notebooks\\..\\src\\herramientas_scrapeo.py:48\u001b[0m, in \u001b[0;36mmerc_subcat\u001b[1;34m(numero_cate, diccionario)\u001b[0m\n\u001b[0;32m     46\u001b[0m \u001b[39mexcept\u001b[39;00m:\n\u001b[0;32m     47\u001b[0m     driver\u001b[39m.\u001b[39mimplicitly_wait(\u001b[39m5\u001b[39m)\n\u001b[1;32m---> 48\u001b[0m     driver\u001b[39m.\u001b[39;49mfind_elemeny(\u001b[39m\"\u001b[39m\u001b[39mcss selector\u001b[39m\u001b[39m\"\u001b[39m, \u001b[39m\"\u001b[39m\u001b[39m#modal-info > div > div > div > button\u001b[39m\u001b[39m\"\u001b[39m)\u001b[39m.\u001b[39mclick()\n\u001b[0;32m     49\u001b[0m     sleep(\u001b[39m2\u001b[39m)\n\u001b[0;32m     50\u001b[0m     driver\u001b[39m.\u001b[39mfind_element(\u001b[39m\"\u001b[39m\u001b[39mcss selector\u001b[39m\u001b[39m\"\u001b[39m, \u001b[39m'\u001b[39m\u001b[39m#root > div.cookie-banner > div > div > button.ui-button.ui-button--small.ui-button--primary.ui-button--positive\u001b[39m\u001b[39m'\u001b[39m)\u001b[39m.\u001b[39mclick()\n",
      "\u001b[1;31mAttributeError\u001b[0m: 'WebDriver' object has no attribute 'find_elemeny'"
     ]
    }
   ],
   "source": [
    "for categ in lista_categorias_copia:\n",
    "    try:\n",
    "        hs.merc_subcat(categ ,productos_mercadona)\n",
    "        lista_categorias_copia.remove(categ)\n",
    "    except:\n",
    "        break"
   ]
  },
  {
   "cell_type": "code",
   "execution_count": 6,
   "metadata": {},
   "outputs": [
    {
     "ename": "NameError",
     "evalue": "name 'lista_actual' is not defined",
     "output_type": "error",
     "traceback": [
      "\u001b[1;31m---------------------------------------------------------------------------\u001b[0m",
      "\u001b[1;31mNameError\u001b[0m                                 Traceback (most recent call last)",
      "\u001b[1;32mc:\\Users\\Lin\\Desktop\\Ironhack\\proyectos\\Proyecto_1_ETL\\notebooks\\proyecto3.ipynb Cell 5\u001b[0m in \u001b[0;36m<cell line: 1>\u001b[1;34m()\u001b[0m\n\u001b[1;32m----> <a href='vscode-notebook-cell:/c%3A/Users/Lin/Desktop/Ironhack/proyectos/Proyecto_1_ETL/notebooks/proyecto3.ipynb#X14sZmlsZQ%3D%3D?line=0'>1</a>\u001b[0m lista_actual\n",
      "\u001b[1;31mNameError\u001b[0m: name 'lista_actual' is not defined"
     ]
    }
   ],
   "source": [
    "lista_actual"
   ]
  },
  {
   "cell_type": "code",
   "execution_count": null,
   "metadata": {},
   "outputs": [],
   "source": [
    "dfmercadona_hoy = pd.DataFrame(productos_mercadona)"
   ]
  },
  {
   "cell_type": "code",
   "execution_count": 2,
   "metadata": {},
   "outputs": [
    {
     "ename": "AttributeError",
     "evalue": "'WebDriver' object has no attribute 'find_elemeny'",
     "output_type": "error",
     "traceback": [
      "\u001b[1;31m---------------------------------------------------------------------------\u001b[0m",
      "\u001b[1;31mElementClickInterceptedException\u001b[0m          Traceback (most recent call last)",
      "File \u001b[1;32mc:\\Users\\Lin\\Desktop\\Ironhack\\proyectos\\Proyecto_1_ETL\\notebooks\\..\\src\\herramientas_scrapeo.py:46\u001b[0m, in \u001b[0;36mmerc_subcat\u001b[1;34m(numero_cate, diccionario)\u001b[0m\n\u001b[0;32m     45\u001b[0m sleep(\u001b[39m2\u001b[39m)\n\u001b[1;32m---> 46\u001b[0m driver\u001b[39m.\u001b[39;49mfind_element(\u001b[39m\"\u001b[39;49m\u001b[39mcss selector\u001b[39;49m\u001b[39m\"\u001b[39;49m, \u001b[39m\"\u001b[39;49m\u001b[39m#root > div.ui-focus-trap > div > div:nth-child(2) > div > form > div > input\u001b[39;49m\u001b[39m\"\u001b[39;49m)\u001b[39m.\u001b[39;49mclick()\n\u001b[0;32m     47\u001b[0m driver\u001b[39m.\u001b[39mfind_element(\u001b[39m\"\u001b[39m\u001b[39mcss selector\u001b[39m\u001b[39m\"\u001b[39m, \u001b[39m\"\u001b[39m\u001b[39m#root > div.ui-focus-trap > div > div:nth-child(2) > div > form > div > input\u001b[39m\u001b[39m\"\u001b[39m)\u001b[39m.\u001b[39msend_keys(\u001b[39m\"\u001b[39m\u001b[39m28018\u001b[39m\u001b[39m\"\u001b[39m,Keys\u001b[39m.\u001b[39mENTER)\n",
      "File \u001b[1;32mc:\\Users\\Lin\\anaconda3\\lib\\site-packages\\selenium\\webdriver\\remote\\webelement.py:93\u001b[0m, in \u001b[0;36mWebElement.click\u001b[1;34m(self)\u001b[0m\n\u001b[0;32m     92\u001b[0m \u001b[39m\"\"\"Clicks the element.\"\"\"\u001b[39;00m\n\u001b[1;32m---> 93\u001b[0m \u001b[39mself\u001b[39;49m\u001b[39m.\u001b[39;49m_execute(Command\u001b[39m.\u001b[39;49mCLICK_ELEMENT)\n",
      "File \u001b[1;32mc:\\Users\\Lin\\anaconda3\\lib\\site-packages\\selenium\\webdriver\\remote\\webelement.py:410\u001b[0m, in \u001b[0;36mWebElement._execute\u001b[1;34m(self, command, params)\u001b[0m\n\u001b[0;32m    409\u001b[0m params[\u001b[39m\"\u001b[39m\u001b[39mid\u001b[39m\u001b[39m\"\u001b[39m] \u001b[39m=\u001b[39m \u001b[39mself\u001b[39m\u001b[39m.\u001b[39m_id\n\u001b[1;32m--> 410\u001b[0m \u001b[39mreturn\u001b[39;00m \u001b[39mself\u001b[39;49m\u001b[39m.\u001b[39;49m_parent\u001b[39m.\u001b[39;49mexecute(command, params)\n",
      "File \u001b[1;32mc:\\Users\\Lin\\anaconda3\\lib\\site-packages\\selenium\\webdriver\\remote\\webdriver.py:444\u001b[0m, in \u001b[0;36mWebDriver.execute\u001b[1;34m(self, driver_command, params)\u001b[0m\n\u001b[0;32m    443\u001b[0m \u001b[39mif\u001b[39;00m response:\n\u001b[1;32m--> 444\u001b[0m     \u001b[39mself\u001b[39;49m\u001b[39m.\u001b[39;49merror_handler\u001b[39m.\u001b[39;49mcheck_response(response)\n\u001b[0;32m    445\u001b[0m     response[\u001b[39m\"\u001b[39m\u001b[39mvalue\u001b[39m\u001b[39m\"\u001b[39m] \u001b[39m=\u001b[39m \u001b[39mself\u001b[39m\u001b[39m.\u001b[39m_unwrap_value(response\u001b[39m.\u001b[39mget(\u001b[39m\"\u001b[39m\u001b[39mvalue\u001b[39m\u001b[39m\"\u001b[39m, \u001b[39mNone\u001b[39;00m))\n",
      "File \u001b[1;32mc:\\Users\\Lin\\anaconda3\\lib\\site-packages\\selenium\\webdriver\\remote\\errorhandler.py:249\u001b[0m, in \u001b[0;36mErrorHandler.check_response\u001b[1;34m(self, response)\u001b[0m\n\u001b[0;32m    248\u001b[0m     \u001b[39mraise\u001b[39;00m exception_class(message, screen, stacktrace, alert_text)  \u001b[39m# type: ignore[call-arg]  # mypy is not smart enough here\u001b[39;00m\n\u001b[1;32m--> 249\u001b[0m \u001b[39mraise\u001b[39;00m exception_class(message, screen, stacktrace)\n",
      "\u001b[1;31mElementClickInterceptedException\u001b[0m: Message: element click intercepted: Element <input class=\"ym-hide-content\" type=\"text\" aria-label=\"Código postal\" name=\"postalCode\" maxlength=\"5\" autocomplete=\"on\" data-test=\"postal-code-checker-input\" value=\"\"> is not clickable at point (518, 396). Other element would receive the click: <button type=\"button\" class=\"ui-button ui-button--default ui-button--primary ui-button--positive ui-button--full-width\" aria-live=\"polite\">...</button>\n  (Session info: chrome=109.0.5414.74)\nStacktrace:\nBacktrace:\n\t(No symbol) [0x011DF243]\n\t(No symbol) [0x01167FD1]\n\t(No symbol) [0x0105D04D]\n\t(No symbol) [0x010928B9]\n\t(No symbol) [0x010908CC]\n\t(No symbol) [0x0108E4CB]\n\t(No symbol) [0x0108D164]\n\t(No symbol) [0x010832A6]\n\t(No symbol) [0x010A858C]\n\t(No symbol) [0x01082BFF]\n\t(No symbol) [0x010A8804]\n\t(No symbol) [0x010BC9EB]\n\t(No symbol) [0x010A8386]\n\t(No symbol) [0x0108163C]\n\t(No symbol) [0x0108269D]\n\tGetHandleVerifier [0x01479A22+2655074]\n\tGetHandleVerifier [0x0146CA24+2601828]\n\tGetHandleVerifier [0x01288C0A+619850]\n\tGetHandleVerifier [0x01287830+614768]\n\t(No symbol) [0x011705FC]\n\t(No symbol) [0x01175968]\n\t(No symbol) [0x01175A55]\n\t(No symbol) [0x0118051B]\n\tBaseThreadInitThunk [0x75F97D69+25]\n\tRtlInitializeExceptionChain [0x7752BB9B+107]\n\tRtlClearBits [0x7752BB1F+191]\n",
      "\nDuring handling of the above exception, another exception occurred:\n",
      "\u001b[1;31mAttributeError\u001b[0m                            Traceback (most recent call last)",
      "\u001b[1;32mc:\\Users\\Lin\\Desktop\\Ironhack\\proyectos\\Proyecto_1_ETL\\notebooks\\proyecto3.ipynb Cell 3\u001b[0m in \u001b[0;36m<cell line: 1>\u001b[1;34m()\u001b[0m\n\u001b[1;32m----> <a href='vscode-notebook-cell:/c%3A/Users/Lin/Desktop/Ironhack/proyectos/Proyecto_1_ETL/notebooks/proyecto3.ipynb#X35sZmlsZQ%3D%3D?line=0'>1</a>\u001b[0m mercadona_hoy \u001b[39m=\u001b[39m pd\u001b[39m.\u001b[39mDataFrame(hs\u001b[39m.\u001b[39;49mscrap_mercadona())\n",
      "File \u001b[1;32mc:\\Users\\Lin\\Desktop\\Ironhack\\proyectos\\Proyecto_1_ETL\\notebooks\\..\\src\\herramientas_scrapeo.py:104\u001b[0m, in \u001b[0;36mscrap_mercadona\u001b[1;34m()\u001b[0m\n\u001b[0;32m    102\u001b[0m productos_mercadona \u001b[39m=\u001b[39m {\u001b[39m\"\u001b[39m\u001b[39mname\u001b[39m\u001b[39m\"\u001b[39m: [], \u001b[39m\"\u001b[39m\u001b[39mcategory\u001b[39m\u001b[39m\"\u001b[39m: [], \u001b[39m\"\u001b[39m\u001b[39mprice\u001b[39m\u001b[39m\"\u001b[39m: [], \u001b[39m\"\u001b[39m\u001b[39mreference_price\u001b[39m\u001b[39m\"\u001b[39m: [], \u001b[39m\"\u001b[39m\u001b[39mreference_unit\u001b[39m\u001b[39m\"\u001b[39m: [], \u001b[39m\"\u001b[39m\u001b[39minsert_date\u001b[39m\u001b[39m\"\u001b[39m: []}\n\u001b[0;32m    103\u001b[0m \u001b[39mfor\u001b[39;00m categ \u001b[39min\u001b[39;00m bb\u001b[39m.\u001b[39mlistacategorias_merc:\n\u001b[1;32m--> 104\u001b[0m     hs\u001b[39m.\u001b[39;49mmerc_subcat(categ, productos_mercadona)\n\u001b[0;32m    105\u001b[0m \u001b[39mreturn\u001b[39;00m productos_mercadona\n",
      "File \u001b[1;32mc:\\Users\\Lin\\Desktop\\Ironhack\\proyectos\\Proyecto_1_ETL\\notebooks\\..\\src\\herramientas_scrapeo.py:51\u001b[0m, in \u001b[0;36mmerc_subcat\u001b[1;34m(numero_cate, diccionario)\u001b[0m\n\u001b[0;32m     49\u001b[0m \u001b[39mexcept\u001b[39;00m:\n\u001b[0;32m     50\u001b[0m     driver\u001b[39m.\u001b[39mimplicitly_wait(\u001b[39m5\u001b[39m)\n\u001b[1;32m---> 51\u001b[0m     driver\u001b[39m.\u001b[39;49mfind_elemeny(\u001b[39m\"\u001b[39m\u001b[39mcss selector\u001b[39m\u001b[39m\"\u001b[39m, \u001b[39m\"\u001b[39m\u001b[39m#modal-info > div > div > div > button\u001b[39m\u001b[39m\"\u001b[39m)\u001b[39m.\u001b[39mclick()\n\u001b[0;32m     52\u001b[0m     sleep(\u001b[39m2\u001b[39m)\n\u001b[0;32m     53\u001b[0m     driver\u001b[39m.\u001b[39mfind_element(\u001b[39m\"\u001b[39m\u001b[39mcss selector\u001b[39m\u001b[39m\"\u001b[39m, \u001b[39m'\u001b[39m\u001b[39m#root > div.cookie-banner > div > div > button.ui-button.ui-button--small.ui-button--primary.ui-button--positive\u001b[39m\u001b[39m'\u001b[39m)\u001b[39m.\u001b[39mclick()\n",
      "\u001b[1;31mAttributeError\u001b[0m: 'WebDriver' object has no attribute 'find_elemeny'"
     ]
    }
   ],
   "source": [
    "#Detectado como bot\n",
    "#mercadona_hoy = pd.DataFrame(hs.scrap_mercadona())"
   ]
  },
  {
   "cell_type": "code",
   "execution_count": null,
   "metadata": {},
   "outputs": [],
   "source": [
    "driver = webdriver.Chrome(ChromeDriverManager().install())\n",
    "opciones= Options()\n",
    "opciones.add_experimental_option('excludeSwitches', ['enable-automation'])#para ocultarme como robot\n",
    "opciones.add_experimental_option('useAutomationExtension', False)\n",
    "opciones.add_argument('--start-maximized') #empezar maximizado\n",
    "opciones.add_argument('user.data-dir=selenium') #guarda las cookies\n",
    "opciones.add_argument('--incognito')#incognito window\n",
    "productos_mercadona = {\n",
    "    \"name\": [],\n",
    "    \"category\": [],\n",
    "    \"price\": [],\n",
    "    \"reference_price\": [],\n",
    "    \"reference_unit\": [],\n",
    "    \"insert_date\": []}\n",
    "today = date.today()\n",
    "url = f\"https://tienda.mercadona.es/categories/112\"\n",
    "driver.get(url)\n",
    "sleep(1)\n",
    "driver.find_element(\"css selector\", '#root > div.cookie-banner > div > div > button.ui-button.ui-button--small.ui-button--primary.ui-button--positive').click()\n",
    "sleep(2)\n",
    "driver.find_element(\"css selector\", \"#root > div.ui-focus-trap > div > div:nth-child(2) > div > form > div > input\").click()\n",
    "driver.find_element(\"css selector\", \"#root > div.ui-focus-trap > div > div:nth-child(2) > div > form > div > input\").send_keys(\"28018\",Keys.ENTER)\n",
    "sleep(2)\n",
    "try:\n",
    "    for n2 in range(2,10):\n",
    "        for n in range(1, 200):\n",
    "            rutaselector = f\"#root > div.grid-layout > div.grid-layout__main-container > div.grid-layout__content > div > div > section:nth-child({n2}) > div > div:nth-child({n}) > button\"\n",
    "            try:\n",
    "                driver.implicitly_wait(3)\n",
    "                driver.find_element(\"css selector\", rutaselector).click()\n",
    "                driver.implicitly_wait(3)\n",
    "                productos_mercadona[\"name\"].append(driver.find_element(\"css selector\", \"#root > div.ui-focus-trap > div > div:nth-child(2) > div > div.private-product-detail > div.private-product-detail__content > div.private-product-detail__right > h1\").text)\n",
    "                productos_mercadona[\"category\"].append(driver.find_element(\"css selector\", \"#root > div.ui-focus-trap > div > div:nth-child(2) > div > div.private-product-detail > div.private-product-detail__breadcrumb\").text)\n",
    "                precio_chungo = driver.find_element(\"css selector\", \"#root > div.ui-focus-trap > div > div:nth-child(2) > div > div.private-product-detail > div.private-product-detail__content > div.private-product-detail__right > div.product-price\").text\n",
    "                productos_mercadona[\"price\"].append(precio_chungo.split(\" €/\")[0])\n",
    "                productos_mercadona[\"reference_price\"].append(driver.find_element(\"css selector\", \"#root > div.ui-focus-trap > div > div:nth-child(2) > div > div.private-product-detail > div.private-product-detail__content > div.private-product-detail__right > div.product-format.product-format__size\").text)\n",
    "                productos_mercadona[\"reference_unit\"].append(driver.find_element(\"css selector\", \"#root > div.ui-focus-trap > div > div:nth-child(2) > div > div.private-product-detail > div.private-product-detail__content > div.private-product-detail__right > div.product-format.product-format__size\").text)\n",
    "                productos_mercadona[\"insert_date\"].append(today)\n",
    "                driver.implicitly_wait(5)\n",
    "                driver.find_element(\"css selector\", '#root > div.ui-focus-trap > div > div:nth-child(2) > div > div.modal-content__header > button').click()\n",
    "            except:\n",
    "                break\n",
    "except:\n",
    "    try:\n",
    "        driver.implicitly_wait(3)\n",
    "        driver.find_element(\"css selector\", \"#root > div.grid-layout > div.grid-layout__main-container > div.grid-layout__content > div > div > button\").click()\n",
    "    except:\n",
    "        break\n",
    "                \n"
   ]
  }
 ],
 "metadata": {
  "kernelspec": {
   "display_name": "base",
   "language": "python",
   "name": "python3"
  },
  "language_info": {
   "codemirror_mode": {
    "name": "ipython",
    "version": 3
   },
   "file_extension": ".py",
   "mimetype": "text/x-python",
   "name": "python",
   "nbconvert_exporter": "python",
   "pygments_lexer": "ipython3",
   "version": "3.9.12"
  },
  "orig_nbformat": 4,
  "vscode": {
   "interpreter": {
    "hash": "c0fe1027508b216a896019249be6f800db5587dd8e29811ed6b75b25cd3ed733"
   }
  }
 },
 "nbformat": 4,
 "nbformat_minor": 2
}
