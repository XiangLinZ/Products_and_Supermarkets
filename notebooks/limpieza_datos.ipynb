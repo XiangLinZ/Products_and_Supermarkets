{
 "cells": [
  {
   "cell_type": "code",
   "execution_count": 1,
   "metadata": {},
   "outputs": [
    {
     "name": "stderr",
     "output_type": "stream",
     "text": [
      "c:\\Users\\Lin\\anaconda3\\lib\\site-packages\\fuzzywuzzy\\fuzz.py:11: UserWarning: Using slow pure-python SequenceMatcher. Install python-Levenshtein to remove this warning\n",
      "  warnings.warn('Using slow pure-python SequenceMatcher. Install python-Levenshtein to remove this warning')\n"
     ]
    }
   ],
   "source": [
    "import pandas as pd\n",
    "import numpy as np\n",
    "import matplotlib.pyplot as plt\n",
    "import seaborn as sns\n",
    "import plotly.express as px\n",
    "from collections import Counter\n",
    "from fuzzywuzzy import process, fuzz\n",
    "from datetime import date\n",
    "import pickle\n",
    "import requests\n",
    "from time import sleep\n",
    "from selenium import webdriver\n",
    "from webdriver_manager.chrome import ChromeDriverManager\n",
    "from selenium.webdriver.common.keys import Keys\n",
    "from selenium.webdriver.chrome.options import Options\n",
    "import tqdm\n",
    "import sys\n",
    "sys.path.append(\"../\")\n",
    "import src.soporte as sp"
   ]
  },
  {
   "cell_type": "code",
   "execution_count": 2,
   "metadata": {},
   "outputs": [
    {
     "data": {
      "text/html": [
       "<div>\n",
       "<style scoped>\n",
       "    .dataframe tbody tr th:only-of-type {\n",
       "        vertical-align: middle;\n",
       "    }\n",
       "\n",
       "    .dataframe tbody tr th {\n",
       "        vertical-align: top;\n",
       "    }\n",
       "\n",
       "    .dataframe thead th {\n",
       "        text-align: right;\n",
       "    }\n",
       "</style>\n",
       "<table border=\"1\" class=\"dataframe\">\n",
       "  <thead>\n",
       "    <tr style=\"text-align: right;\">\n",
       "      <th></th>\n",
       "      <th>url</th>\n",
       "      <th>supermarket</th>\n",
       "      <th>category</th>\n",
       "      <th>name</th>\n",
       "      <th>description</th>\n",
       "      <th>price</th>\n",
       "      <th>reference_price</th>\n",
       "      <th>reference_unit</th>\n",
       "      <th>insert_date</th>\n",
       "      <th>product_id</th>\n",
       "    </tr>\n",
       "  </thead>\n",
       "  <tbody>\n",
       "    <tr>\n",
       "      <th>0</th>\n",
       "      <td>https://www.dia.es/compra-online/productos/per...</td>\n",
       "      <td>dia-es</td>\n",
       "      <td>perfumeria_e_higiene_cuidado_del_cabello_champu</td>\n",
       "      <td>FLEX champú con Keratina para cabello normal f...</td>\n",
       "      <td>NaN</td>\n",
       "      <td>3.39</td>\n",
       "      <td>5.22</td>\n",
       "      <td>l</td>\n",
       "      <td>2021-03-06 00:00:00</td>\n",
       "      <td>782a516202a4c7d4977341602ed10173</td>\n",
       "    </tr>\n",
       "    <tr>\n",
       "      <th>1</th>\n",
       "      <td>https://www.dia.es/compra-online/productos/per...</td>\n",
       "      <td>dia-es</td>\n",
       "      <td>perfumeria_e_higiene_cuidado_del_cabello_champu</td>\n",
       "      <td>FLEX champú con Keratina fortificante frasco 6...</td>\n",
       "      <td>NaN</td>\n",
       "      <td>3.39</td>\n",
       "      <td>5.22</td>\n",
       "      <td>l</td>\n",
       "      <td>2021-03-06 00:00:00</td>\n",
       "      <td>fcadc0dcbdfaa1dc2aa6c99523c3fa47</td>\n",
       "    </tr>\n",
       "    <tr>\n",
       "      <th>2</th>\n",
       "      <td>https://www.dia.es/compra-online/productos/per...</td>\n",
       "      <td>dia-es</td>\n",
       "      <td>perfumeria_e_higiene_cuidado_del_cabello_champu</td>\n",
       "      <td>GLISS champú reparador total frasco 250 ml</td>\n",
       "      <td>NaN</td>\n",
       "      <td>2.99</td>\n",
       "      <td>11.96</td>\n",
       "      <td>l</td>\n",
       "      <td>2021-03-06 00:00:00</td>\n",
       "      <td>bf86b25bafae2e646edba24ed9a0af7c</td>\n",
       "    </tr>\n",
       "    <tr>\n",
       "      <th>3</th>\n",
       "      <td>https://www.dia.es/compra-online/productos/per...</td>\n",
       "      <td>dia-es</td>\n",
       "      <td>perfumeria_e_higiene_cuidado_del_cabello_champu</td>\n",
       "      <td>GLISS champú reparador ultimate frasco 250 ml</td>\n",
       "      <td>NaN</td>\n",
       "      <td>2.99</td>\n",
       "      <td>11.96</td>\n",
       "      <td>l</td>\n",
       "      <td>2021-03-06 00:00:00</td>\n",
       "      <td>df3b30f9e481ec851d606a99fd8ad8b7</td>\n",
       "    </tr>\n",
       "    <tr>\n",
       "      <th>4</th>\n",
       "      <td>https://www.dia.es/compra-online/productos/per...</td>\n",
       "      <td>dia-es</td>\n",
       "      <td>perfumeria_e_higiene_cuidado_del_cabello_champu</td>\n",
       "      <td>NATUR VITAL champú protección color cabellos c...</td>\n",
       "      <td>NaN</td>\n",
       "      <td>3.99</td>\n",
       "      <td>13.30</td>\n",
       "      <td>l</td>\n",
       "      <td>2021-03-06 00:00:00</td>\n",
       "      <td>9c94c0754747ab0d37067ede61a682fc</td>\n",
       "    </tr>\n",
       "  </tbody>\n",
       "</table>\n",
       "</div>"
      ],
      "text/plain": [
       "                                                 url supermarket  \\\n",
       "0  https://www.dia.es/compra-online/productos/per...      dia-es   \n",
       "1  https://www.dia.es/compra-online/productos/per...      dia-es   \n",
       "2  https://www.dia.es/compra-online/productos/per...      dia-es   \n",
       "3  https://www.dia.es/compra-online/productos/per...      dia-es   \n",
       "4  https://www.dia.es/compra-online/productos/per...      dia-es   \n",
       "\n",
       "                                          category  \\\n",
       "0  perfumeria_e_higiene_cuidado_del_cabello_champu   \n",
       "1  perfumeria_e_higiene_cuidado_del_cabello_champu   \n",
       "2  perfumeria_e_higiene_cuidado_del_cabello_champu   \n",
       "3  perfumeria_e_higiene_cuidado_del_cabello_champu   \n",
       "4  perfumeria_e_higiene_cuidado_del_cabello_champu   \n",
       "\n",
       "                                                name description  price  \\\n",
       "0  FLEX champú con Keratina para cabello normal f...         NaN   3.39   \n",
       "1  FLEX champú con Keratina fortificante frasco 6...         NaN   3.39   \n",
       "2         GLISS champú reparador total frasco 250 ml         NaN   2.99   \n",
       "3      GLISS champú reparador ultimate frasco 250 ml         NaN   2.99   \n",
       "4  NATUR VITAL champú protección color cabellos c...         NaN   3.99   \n",
       "\n",
       "   reference_price reference_unit          insert_date  \\\n",
       "0             5.22              l  2021-03-06 00:00:00   \n",
       "1             5.22              l  2021-03-06 00:00:00   \n",
       "2            11.96              l  2021-03-06 00:00:00   \n",
       "3            11.96              l  2021-03-06 00:00:00   \n",
       "4            13.30              l  2021-03-06 00:00:00   \n",
       "\n",
       "                         product_id  \n",
       "0  782a516202a4c7d4977341602ed10173  \n",
       "1  fcadc0dcbdfaa1dc2aa6c99523c3fa47  \n",
       "2  bf86b25bafae2e646edba24ed9a0af7c  \n",
       "3  df3b30f9e481ec851d606a99fd8ad8b7  \n",
       "4  9c94c0754747ab0d37067ede61a682fc  "
      ]
     },
     "execution_count": 2,
     "metadata": {},
     "output_type": "execute_result"
    }
   ],
   "source": [
    "df = pd.read_csv(\"../data/datamarket_productos_de_supermercados.csv\")\n",
    "df.head()"
   ]
  },
  {
   "cell_type": "code",
   "execution_count": 3,
   "metadata": {},
   "outputs": [],
   "source": [
    "# Cambiamos los precios para que sean más uniformes las unidades de medida\n",
    "df[\"reference_price\"] = df.apply(lambda x: sp.limpiar_reference(x[\"reference_price\"], x[\"reference_unit\"]), axis = 1)"
   ]
  },
  {
   "cell_type": "code",
   "execution_count": 4,
   "metadata": {},
   "outputs": [],
   "source": [
    "# Cambio las unidades después\n",
    "df[\"reference_unit\"] = df[\"reference_unit\"].apply(lambda x: sp.limpiar_runit(x ))\n"
   ]
  },
  {
   "cell_type": "code",
   "execution_count": 5,
   "metadata": {},
   "outputs": [
    {
     "data": {
      "text/plain": [
       "kg        3817199\n",
       "l         2529459\n",
       "ud        1416919\n",
       "lavado      61274\n",
       "m           13107\n",
       "Name: reference_unit, dtype: int64"
      ]
     },
     "execution_count": 5,
     "metadata": {},
     "output_type": "execute_result"
    }
   ],
   "source": [
    "df[\"reference_unit\"].value_counts()"
   ]
  },
  {
   "cell_type": "code",
   "execution_count": 6,
   "metadata": {},
   "outputs": [],
   "source": [
    "# No me sirve description y hay muchos nulos, las url muchas no funcionan, el product_id lo voy a generar yo mismo\n",
    "df.drop([\"description\", \"url\", \"product_id\"], axis = 1, inplace = True)"
   ]
  },
  {
   "cell_type": "code",
   "execution_count": 7,
   "metadata": {},
   "outputs": [],
   "source": [
    "# Las horas estan vacías no sirven\n",
    "df[\"insert_date\"] = pd.to_datetime(df[\"insert_date\"])"
   ]
  },
  {
   "cell_type": "code",
   "execution_count": 8,
   "metadata": {},
   "outputs": [],
   "source": [
    "# split por supermercados para limpiar más fino\n",
    "dfm = df[df[\"supermarket\"] == \"mercadona-es\"]\n",
    "dfc = df[df[\"supermarket\"] == \"carrefour-es\"]\n",
    "dfd = df[df[\"supermarket\"] == \"dia-es\"]"
   ]
  },
  {
   "cell_type": "code",
   "execution_count": 9,
   "metadata": {},
   "outputs": [],
   "source": [
    "# Primero DIA\n",
    "# Hay una categoria rara, la drop\n",
    "dfd2 = dfd[dfd[\"category\"] != \"soy_solidario_soy_solidario_soy_solidario\"]"
   ]
  },
  {
   "cell_type": "code",
   "execution_count": 10,
   "metadata": {},
   "outputs": [
    {
     "name": "stderr",
     "output_type": "stream",
     "text": [
      "C:\\Users\\Lin\\AppData\\Local\\Temp\\ipykernel_40800\\2621852338.py:2: SettingWithCopyWarning: \n",
      "A value is trying to be set on a copy of a slice from a DataFrame.\n",
      "Try using .loc[row_indexer,col_indexer] = value instead\n",
      "\n",
      "See the caveats in the documentation: https://pandas.pydata.org/pandas-docs/stable/user_guide/indexing.html#returning-a-view-versus-a-copy\n",
      "  dfd2[\"subcategoria\"] = dfd2.apply(lambda x: sp.dia_subcat(x[\"category\"]), axis = 1)\n"
     ]
    }
   ],
   "source": [
    "# Limpiamos las categorias empezamos creando subcategorias BIEN\n",
    "dfd2[\"subcategoria\"] = dfd2.apply(lambda x: sp.dia_subcat(x[\"category\"]), axis = 1)"
   ]
  },
  {
   "cell_type": "code",
   "execution_count": 11,
   "metadata": {},
   "outputs": [
    {
     "name": "stderr",
     "output_type": "stream",
     "text": [
      "C:\\Users\\Lin\\AppData\\Local\\Temp\\ipykernel_40800\\593860639.py:2: SettingWithCopyWarning: \n",
      "A value is trying to be set on a copy of a slice from a DataFrame.\n",
      "Try using .loc[row_indexer,col_indexer] = value instead\n",
      "\n",
      "See the caveats in the documentation: https://pandas.pydata.org/pandas-docs/stable/user_guide/indexing.html#returning-a-view-versus-a-copy\n",
      "  dfd2[\"category\"] = dfd2.apply(lambda x: sp.category(x[\"subcategoria\"]), axis = 1)\n"
     ]
    }
   ],
   "source": [
    "# A partir de las subcategorias BIEN ahora creo las categorias grandes BIEN\n",
    "dfd2[\"category\"] = dfd2.apply(lambda x: sp.category(x[\"subcategoria\"]), axis = 1)"
   ]
  },
  {
   "cell_type": "code",
   "execution_count": 12,
   "metadata": {},
   "outputs": [
    {
     "name": "stderr",
     "output_type": "stream",
     "text": [
      "C:\\Users\\Lin\\AppData\\Local\\Temp\\ipykernel_40800\\3216612271.py:3: SettingWithCopyWarning: \n",
      "A value is trying to be set on a copy of a slice from a DataFrame.\n",
      "Try using .loc[row_indexer,col_indexer] = value instead\n",
      "\n",
      "See the caveats in the documentation: https://pandas.pydata.org/pandas-docs/stable/user_guide/indexing.html#returning-a-view-versus-a-copy\n",
      "  dfm[\"subcategoria\"] = dfm.apply(lambda x: sp.mer_subcat(x[\"category\"]), axis = 1)\n"
     ]
    }
   ],
   "source": [
    "# Limpiamos las categorias de Mercadona\n",
    "# Limpiamos las categorias empezamos creando subcategorias BIEN\n",
    "dfm[\"subcategoria\"] = dfm.apply(lambda x: sp.mer_subcat(x[\"category\"]), axis = 1)"
   ]
  },
  {
   "cell_type": "code",
   "execution_count": 13,
   "metadata": {},
   "outputs": [
    {
     "name": "stderr",
     "output_type": "stream",
     "text": [
      "C:\\Users\\Lin\\AppData\\Local\\Temp\\ipykernel_40800\\4076117406.py:2: SettingWithCopyWarning: \n",
      "A value is trying to be set on a copy of a slice from a DataFrame.\n",
      "Try using .loc[row_indexer,col_indexer] = value instead\n",
      "\n",
      "See the caveats in the documentation: https://pandas.pydata.org/pandas-docs/stable/user_guide/indexing.html#returning-a-view-versus-a-copy\n",
      "  dfm[\"categoria\"] = dfm.apply(lambda x: sp.category(x[\"subcategoria\"]), axis = 1)\n"
     ]
    }
   ],
   "source": [
    "# A partir de las subcategorias BIEN ahora creo las categorias grandes BIEN\n",
    "dfm[\"categoria\"] = dfm.apply(lambda x: sp.category(x[\"subcategoria\"]), axis = 1)\n"
   ]
  },
  {
   "cell_type": "code",
   "execution_count": 14,
   "metadata": {},
   "outputs": [],
   "source": [
    "dfd.to_csv(\"../data/dia_limpio.csv\")"
   ]
  },
  {
   "cell_type": "code",
   "execution_count": 15,
   "metadata": {},
   "outputs": [],
   "source": [
    "dfm.to_csv(\"../data/mercadona_limpio.csv\")"
   ]
  }
 ],
 "metadata": {
  "kernelspec": {
   "display_name": "base",
   "language": "python",
   "name": "python3"
  },
  "language_info": {
   "codemirror_mode": {
    "name": "ipython",
    "version": 3
   },
   "file_extension": ".py",
   "mimetype": "text/x-python",
   "name": "python",
   "nbconvert_exporter": "python",
   "pygments_lexer": "ipython3",
   "version": "3.9.12"
  },
  "orig_nbformat": 4,
  "vscode": {
   "interpreter": {
    "hash": "c0fe1027508b216a896019249be6f800db5587dd8e29811ed6b75b25cd3ed733"
   }
  }
 },
 "nbformat": 4,
 "nbformat_minor": 2
}
